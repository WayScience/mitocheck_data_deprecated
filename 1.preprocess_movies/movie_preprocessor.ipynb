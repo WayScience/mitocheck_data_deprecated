{
 "cells": [
  {
   "cell_type": "markdown",
   "metadata": {},
   "source": [
    "# Movie Preprocessor\n",
    "### Preprocesses Movies from IDR downloader\n",
    "\n",
    "#### Import libraries"
   ]
  },
  {
   "cell_type": "code",
   "execution_count": null,
   "metadata": {},
   "outputs": [],
   "source": [
    "\n",
    "#pip install pybasic not working so must use this\n",
    "import PyBaSiC.pybasic as pybasic\n",
    "from matplotlib import pyplot as plt\n",
    "from PIL import Image\n",
    "import os\n",
    "from PIL import *\n",
    "import numpy as np\n",
    "from skimage.io import imsave\n",
    "import imagej\n",
    "from IPython.utils.io import capture_output"
   ]
  },
  {
   "cell_type": "markdown",
   "metadata": {},
   "source": [
    "#### Load Movie Data as List of Numpy Arrays"
   ]
  },
  {
   "cell_type": "code",
   "execution_count": null,
   "metadata": {},
   "outputs": [],
   "source": [
    "# Load function for webp movies downloaded with 0.download_data/IDR_downloader.ipynb\n",
    "def load_webp_data(path):\n",
    "    images = []\n",
    "    for filename in sorted(os.listdir(path)):\n",
    "        if filename == \"annotations\":\n",
    "            continue\n",
    "        f = os.path.join(path, filename)\n",
    "        image = Image.open(f)\n",
    "        image = image.convert(\"L\")\n",
    "        images.append(np.array(image))\n",
    "    return images\n",
    "\n",
    "# Load function for ch5 movies downloaded with 0.download_data/aspera_IDR_downloader.ipynb\n",
    "def load_ch5_data(ij, path):\n",
    "    with capture_output() as captured:\n",
    "        jimage = ij.io().open(path)\n",
    "        image = ij.py.from_java(jimage)\n",
    "        #only get last 94 frames of movies (at least one movie has 95)\n",
    "        im_arr = image.values[-94:, :, :, 0]\n",
    "        return im_arr"
   ]
  },
  {
   "cell_type": "markdown",
   "metadata": {},
   "source": [
    "#### PyBaSiC Illumination correction as described in http://www.nature.com/articles/ncomms14836"
   ]
  },
  {
   "cell_type": "code",
   "execution_count": null,
   "metadata": {},
   "outputs": [],
   "source": [
    "def pybasic_illumination_correction(brightfield_images):\n",
    "    \n",
    "    flatfield, darkfield = pybasic.basic(brightfield_images, darkfield=True)\n",
    "    \n",
    "    baseflour = pybasic.background_timelapse(\n",
    "        images_list = brightfield_images, \n",
    "        flatfield = flatfield, \n",
    "        darkfield = darkfield\n",
    "    )\n",
    "    \n",
    "    brightfield_images_corrected_original = pybasic.correct_illumination(\n",
    "        images_list = brightfield_images, \n",
    "        flatfield = flatfield, \n",
    "        darkfield = darkfield,\n",
    "        background_timelapse = baseflour\n",
    "    )\n",
    "    \n",
    "    #convert corrected images to numpy array, normalize, and convert to uint8\n",
    "    brightfield_images_corrected = np.array(brightfield_images_corrected_original)\n",
    "    brightfield_images_corrected[brightfield_images_corrected<0] = 0 #make negatives 0\n",
    "    brightfield_images_corrected = brightfield_images_corrected / np.max(brightfield_images_corrected) # normalize the data to 0 - 1\n",
    "    brightfield_images_corrected = 255 * brightfield_images_corrected # Now scale by 255\n",
    "    corrected_movie = brightfield_images_corrected.astype(np.uint8)\n",
    "    \n",
    "    return corrected_movie"
   ]
  },
  {
   "cell_type": "markdown",
   "metadata": {},
   "source": [
    "#### Preprocess movies in training data"
   ]
  },
  {
   "cell_type": "code",
   "execution_count": null,
   "metadata": {},
   "outputs": [],
   "source": [
    "def preprocess_labeled_data(ij, load_path, save_path):\n",
    "    for plate in os.listdir(load_path):\n",
    "        for well in os.listdir(load_path + \"/\" + plate):\n",
    "            print(\"Processing plate \" + plate + \" well \" + well)\n",
    "            well_load_path = load_path + \"/\" + plate + \"/\" + well\n",
    "            new_well_name = well.replace(\"_01.ch5\", \".tiff\")\n",
    "            \n",
    "            #check if well has already been preprocessed\n",
    "            if os.path.isdir(save_path + \"/\" + plate + \"/\"):\n",
    "                print(\"This movie has already been preprocessed\")\n",
    "                continue\n",
    "                \n",
    "            well_save_path = save_path + \"/\" + plate + \"/\" + new_well_name\n",
    "            original_movie = load_ch5_data(ij, well_load_path)\n",
    "            corrected_movie = pybasic_illumination_correction(original_movie)\n",
    "            os.makedirs(save_path + \"/\" + plate + \"/\")\n",
    "            imsave(well_save_path, corrected_movie)\n",
    "       \n",
    "ij = imagej.init('/home/roshankern/Desktop/Fiji.app')\n",
    "load_path = \"/media/roshankern/hdd/mitocheck_idr_download/labled_movies\"\n",
    "save_path = \"/media/roshankern/hdd/mitocheck_idr_download/labled_movies_preprocessed\"\n",
    "preprocess_labeled_data(ij, load_path, save_path)"
   ]
  }
 ],
 "metadata": {
  "interpreter": {
   "hash": "66abdc3c03dcf0722b0c0b28d5de821f53c9422cd7bea8677d4d119fdea6a0a9"
  },
  "kernelspec": {
   "display_name": "Python 3.10.4 ('imagej_converter')",
   "language": "python",
   "name": "python3"
  },
  "language_info": {
   "codemirror_mode": {
    "name": "ipython",
    "version": 3
   },
   "file_extension": ".py",
   "mimetype": "text/x-python",
   "name": "python",
   "nbconvert_exporter": "python",
   "pygments_lexer": "ipython3",
   "version": "3.10.4"
  },
  "orig_nbformat": 4
 },
 "nbformat": 4,
 "nbformat_minor": 2
}
