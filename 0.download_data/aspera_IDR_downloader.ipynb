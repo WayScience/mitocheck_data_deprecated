{
 "cells": [
  {
   "cell_type": "markdown",
   "metadata": {},
   "source": [
    "# Aspera IDR Movie Downloader\n",
    "### Download movies from IDR using the Aspera high-speed transfer client\n"
   ]
  },
  {
   "cell_type": "code",
   "execution_count": null,
   "metadata": {},
   "outputs": [],
   "source": [
    "#command to download entire dataset:\n",
    "\"\"\"\n",
    "sudo /home/roshankern/.aspera/ascli/sdk/ascp\n",
    "-TQ -l500m -P 33001 -i \n",
    "/home/roshankern/Desktop/aspera/asperaweb_id_dsa.openssh \n",
    "idr0013@fasp.ebi.ac.uk:20150916-mitocheck-analysis/mitocheck/ \n",
    "/media/roshankern/hdd/mitocheck_idr_download\n",
    "\"\"\""
   ]
  },
  {
   "cell_type": "markdown",
   "metadata": {},
   "source": [
    "#### Import libraries"
   ]
  },
  {
   "cell_type": "code",
   "execution_count": 1,
   "metadata": {},
   "outputs": [],
   "source": [
    "import os\n",
    "import subprocess\n",
    "import pandas as pd"
   ]
  },
  {
   "cell_type": "markdown",
   "metadata": {},
   "source": [
    "#### Determine Labeled Data\n",
    "Save plate/well of feature data to `training_locations.tsv`"
   ]
  },
  {
   "cell_type": "code",
   "execution_count": 4,
   "metadata": {},
   "outputs": [],
   "source": [
    "#Figure out which wells from which plate have labeled data\n",
    "\n",
    "def save_training_wells(features_path, save_path):\n",
    "    data_list = []\n",
    "    for plate in os.listdir(features_path):\n",
    "        for well in os.listdir(features_path + plate + \"/features\"):\n",
    "            data_list.append([plate, well])\n",
    "    dataframe = pd.DataFrame(data_list, columns=['Plate', 'Well'])\n",
    "    dataframe.to_csv(save_path, sep=\"\\t\")\n",
    "    \n",
    "features_path = \"0.download_data/feature_dataset/training_set/features/\"\n",
    "save_path = \"training_locations.tsv\"\n",
    "save_training_wells(features_path, save_path)"
   ]
  },
  {
   "cell_type": "markdown",
   "metadata": {},
   "source": [
    "#### Download movies that have labels\n",
    "Use Aspera to download wells listed in `training_locations.tsv`"
   ]
  },
  {
   "cell_type": "code",
   "execution_count": 5,
   "metadata": {},
   "outputs": [
    {
     "name": "stdout",
     "output_type": "stream",
     "text": [
      "[Errno 17] File exists: '/media/roshankern/hdd/mitocheck_idr_download/labled_movies/LT0014_12'\n",
      "LT0014_12 not available in screen paths\n",
      "[Errno 17] File exists: '/media/roshankern/hdd/mitocheck_idr_download/labled_movies/LT0105_04'\n",
      "LT0105_04 not available in screen paths\n",
      "[Errno 17] File exists: '/media/roshankern/hdd/mitocheck_idr_download/labled_movies/LT0094_44'\n",
      "LT0094_44 not available in screen paths\n",
      "[Errno 17] File exists: '/media/roshankern/hdd/mitocheck_idr_download/labled_movies/LT0017_19'\n",
      "LT0017_19 not available in screen paths\n",
      "[Errno 17] File exists: '/media/roshankern/hdd/mitocheck_idr_download/labled_movies/LT0157_04'\n",
      "LT0157_04 not available in screen paths\n",
      "[Errno 17] File exists: '/media/roshankern/hdd/mitocheck_idr_download/labled_movies/LT0100_03'\n",
      "LT0100_03 not available in screen paths\n",
      "[Errno 17] File exists: '/media/roshankern/hdd/mitocheck_idr_download/labled_movies/LT0094_04'\n",
      "LT0094_04 not available in screen paths\n",
      "[Errno 17] File exists: '/media/roshankern/hdd/mitocheck_idr_download/labled_movies/LT0144_01'\n",
      "LT0144_01 not available in screen paths\n",
      "[Errno 17] File exists: '/media/roshankern/hdd/mitocheck_idr_download/labled_movies/LT0093_13'\n",
      "LT0093_13 not available in screen paths\n",
      "[Errno 17] File exists: '/media/roshankern/hdd/mitocheck_idr_download/labled_movies/LT0098_13'\n",
      "LT0098_13 not available in screen paths\n",
      "[Errno 17] File exists: '/media/roshankern/hdd/mitocheck_idr_download/labled_movies/LT0067_02'\n",
      "LT0067_02 not available in screen paths\n",
      "[Errno 17] File exists: '/media/roshankern/hdd/mitocheck_idr_download/labled_movies/LT0109_38'\n",
      "LT0109_38 not available in screen paths\n",
      "[Errno 17] File exists: '/media/roshankern/hdd/mitocheck_idr_download/labled_movies/LT0109_38'\n",
      "LT0109_38 not available in screen paths\n",
      "[Errno 17] File exists: '/media/roshankern/hdd/mitocheck_idr_download/labled_movies/LT0109_38'\n",
      "LT0109_38 not available in screen paths\n",
      "[Errno 17] File exists: '/media/roshankern/hdd/mitocheck_idr_download/labled_movies/LT0026_22'\n",
      "LT0026_22 not available in screen paths\n",
      "[Errno 17] File exists: '/media/roshankern/hdd/mitocheck_idr_download/labled_movies/LT0066_19'\n",
      "LT0066_19 not available in screen paths\n",
      "[Errno 17] File exists: '/media/roshankern/hdd/mitocheck_idr_download/labled_movies/LT0065_04'\n",
      "LT0065_04 not available in screen paths\n",
      "[Errno 17] File exists: '/media/roshankern/hdd/mitocheck_idr_download/labled_movies/LT0047_27'\n",
      "LT0047_27 not available in screen paths\n",
      "[Errno 17] File exists: '/media/roshankern/hdd/mitocheck_idr_download/labled_movies/LT0039_45'\n",
      "LT0039_45 not available in screen paths\n",
      "[Errno 17] File exists: '/media/roshankern/hdd/mitocheck_idr_download/labled_movies/LT0106_02'\n",
      "LT0106_02 not available in screen paths\n",
      "[Errno 17] File exists: '/media/roshankern/hdd/mitocheck_idr_download/labled_movies/LT0013_42'\n",
      "LT0013_42 not available in screen paths\n",
      "[Errno 17] File exists: '/media/roshankern/hdd/mitocheck_idr_download/labled_movies/LT0038_01'\n",
      "LT0038_01 not available in screen paths\n",
      "[Errno 17] File exists: '/media/roshankern/hdd/mitocheck_idr_download/labled_movies/LT0038_08'\n",
      "LT0038_08 not available in screen paths\n",
      "[Errno 17] File exists: '/media/roshankern/hdd/mitocheck_idr_download/labled_movies/LT0093_17'\n",
      "LT0093_17 not available in screen paths\n",
      "[Errno 17] File exists: '/media/roshankern/hdd/mitocheck_idr_download/labled_movies/LT0035_06'\n",
      "LT0035_06 not available in screen paths\n",
      "[Errno 17] File exists: '/media/roshankern/hdd/mitocheck_idr_download/labled_movies/LT0065_06'\n",
      "LT0065_06 not available in screen paths\n",
      "[Errno 17] File exists: '/media/roshankern/hdd/mitocheck_idr_download/labled_movies/LT0094_01'\n",
      "LT0094_01 not available in screen paths\n",
      "[Errno 17] File exists: '/media/roshankern/hdd/mitocheck_idr_download/labled_movies/LT0043_48'\n",
      "LT0043_48 not available in screen paths\n",
      "[Errno 17] File exists: '/media/roshankern/hdd/mitocheck_idr_download/labled_movies/LT0027_44'\n",
      "LT0027_44 not available in screen paths\n",
      "[Errno 17] File exists: '/media/roshankern/hdd/mitocheck_idr_download/labled_movies/LT0027_44'\n",
      "LT0027_44 not available in screen paths\n",
      "[Errno 17] File exists: '/media/roshankern/hdd/mitocheck_idr_download/labled_movies/LT0028_14'\n",
      "LT0028_14 not available in screen paths\n",
      "[Errno 17] File exists: '/media/roshankern/hdd/mitocheck_idr_download/labled_movies/LT0064_14'\n",
      "LT0064_14 not available in screen paths\n",
      "[Errno 17] File exists: '/media/roshankern/hdd/mitocheck_idr_download/labled_movies/LT0046_19'\n",
      "LT0046_19 not available in screen paths\n",
      "[Errno 17] File exists: '/media/roshankern/hdd/mitocheck_idr_download/labled_movies/LT0101_01'\n",
      "LT0101_01 not available in screen paths\n",
      "[Errno 17] File exists: '/media/roshankern/hdd/mitocheck_idr_download/labled_movies/LT0041_32'\n",
      "LT0041_32 not available in screen paths\n",
      "[Errno 17] File exists: '/media/roshankern/hdd/mitocheck_idr_download/labled_movies/LT0048_14'\n",
      "LT0048_14 not available in screen paths\n",
      "[Errno 17] File exists: '/media/roshankern/hdd/mitocheck_idr_download/labled_movies/LT0096_33'\n",
      "LT0096_33 not available in screen paths\n",
      "[Errno 17] File exists: '/media/roshankern/hdd/mitocheck_idr_download/labled_movies/LT0030_17'\n",
      "LT0030_17 not available in screen paths\n",
      "can only convert an array of size 1 to a Python scalar\n",
      "LT0155_02 not available in screen paths\n",
      "[Errno 17] File exists: '/media/roshankern/hdd/mitocheck_idr_download/labled_movies/LT0090_33'\n",
      "LT0090_33 not available in screen paths\n",
      "[Errno 17] File exists: '/media/roshankern/hdd/mitocheck_idr_download/labled_movies/LT0038_27'\n",
      "LT0038_27 not available in screen paths\n",
      "[Errno 17] File exists: '/media/roshankern/hdd/mitocheck_idr_download/labled_movies/LT0044_36'\n",
      "LT0044_36 not available in screen paths\n",
      "can only convert an array of size 1 to a Python scalar\n",
      "LT0111_45 not available in screen paths\n",
      "[Errno 17] File exists: '/media/roshankern/hdd/mitocheck_idr_download/labled_movies/LT0132_31'\n",
      "LT0132_31 not available in screen paths\n",
      "[Errno 17] File exists: '/media/roshankern/hdd/mitocheck_idr_download/labled_movies/LT0013_38'\n",
      "LT0013_38 not available in screen paths\n",
      "[Errno 17] File exists: '/media/roshankern/hdd/mitocheck_idr_download/labled_movies/LT0023_04'\n",
      "LT0023_04 not available in screen paths\n",
      "[Errno 17] File exists: '/media/roshankern/hdd/mitocheck_idr_download/labled_movies/LT0042_10'\n",
      "LT0042_10 not available in screen paths\n",
      "[Errno 17] File exists: '/media/roshankern/hdd/mitocheck_idr_download/labled_movies/LT0042_10'\n",
      "LT0042_10 not available in screen paths\n",
      "[Errno 17] File exists: '/media/roshankern/hdd/mitocheck_idr_download/labled_movies/LT0084_46'\n",
      "LT0084_46 not available in screen paths\n",
      "[Errno 17] File exists: '/media/roshankern/hdd/mitocheck_idr_download/labled_movies/LT0089_01'\n",
      "LT0089_01 not available in screen paths\n",
      "[Errno 17] File exists: '/media/roshankern/hdd/mitocheck_idr_download/labled_movies/LT0066_23'\n",
      "LT0066_23 not available in screen paths\n",
      "[Errno 17] File exists: '/media/roshankern/hdd/mitocheck_idr_download/labled_movies/LT0138_03'\n",
      "LT0138_03 not available in screen paths\n"
     ]
    }
   ],
   "source": [
    "training_locations_path = \"training_locations.tsv\"\n",
    "screens_path = \"0.download_data/idr0013-screenA-plates.tsv\"\n",
    "\n",
    "\n",
    "def download_labeled_data(training_locations_path, screens_path, aspera_path, key_path, download_path):\n",
    "    training_locations = pd.read_csv(training_locations_path, sep=\"\\t\")\n",
    "    screens = pd.read_csv(screens_path, sep=\"\\t\", header=None)\n",
    "    screens.columns = [\"Plate\", \"Screen\"]\n",
    "    \n",
    "    for index, row in training_locations.iterrows():\n",
    "        try:\n",
    "            #example command: \n",
    "            \"\"\"sudo /home/roshankern/.aspera/ascli/sdk/ascp\n",
    "            -TQ -l500m -P 33001 -i /home/roshankern/Desktop/aspera/asperaweb_\n",
    "            id_dsa.openssh idr0013@fasp.ebi.ac.uk:20150916-mitocheck-analysis/mitocheck/LT0001_02--ex2005_11_16--sp2005_02_17--tt17--c3/hdf5/00002_01.ch5 \n",
    "            /home/roshankern/Desktop/NucleusMorphology/phenotypic_profiling/downloading/idr_downloads\"\"\"\n",
    "            \n",
    "            #get location of screen\n",
    "            screen_loc = screens.loc[screens['Plate'] == row['Plate'], 'Screen'].item().removeprefix(\"../screens/\").removesuffix(\".screen\")\n",
    "            \n",
    "            well_path = \"20150916-mitocheck-analysis/mitocheck/\" + screen_loc + \"/hdf5/00\" + \"{:03d}\".format(row['Well']) + \"_01.ch5\"\n",
    "            idr_location = \"idr0013@fasp.ebi.ac.uk:\" + well_path + \" \"\n",
    "            \n",
    "            os.makedirs(download_path + \"/\" + row['Plate'])\n",
    "            command = \"sudo \" + aspera_path + \" -TQ -l500m -P 33001 -i \" + key_path + \" \" + idr_location + download_path + \"/\" + row['Plate']\n",
    "            print(command)\n",
    "            os.system(command)\n",
    "        except Exception as e:\n",
    "            print(e)\n",
    "            print(row['Plate'] + \" not available in screen paths\")\n",
    "\n",
    "\n",
    "aspera_path = \"/home/roshankern/.aspera/ascli/sdk/ascp\"\n",
    "key_path = \"/home/roshankern/Desktop/NucleusMorphology/phenotypic_profiling/downloading/asperaweb_id_dsa.openssh\"\n",
    "download_path = \"/media/roshankern/hdd/mitocheck_idr_download/labled_movies\"\n",
    "\n",
    "download_labeled_data(training_locations_path, screens_path, aspera_path, key_path, download_path)"
   ]
  }
 ],
 "metadata": {
  "interpreter": {
   "hash": "f9df586d1764dbc68785000a153dad1832127ac564b5e2e4c94e83fc43160b30"
  },
  "kernelspec": {
   "display_name": "Python 3.9.12 ('phenotypic_profiling')",
   "language": "python",
   "name": "python3"
  },
  "language_info": {
   "codemirror_mode": {
    "name": "ipython",
    "version": 3
   },
   "file_extension": ".py",
   "mimetype": "text/x-python",
   "name": "python",
   "nbconvert_exporter": "python",
   "pygments_lexer": "ipython3",
   "version": "3.9.12"
  },
  "orig_nbformat": 4
 },
 "nbformat": 4,
 "nbformat_minor": 2
}
