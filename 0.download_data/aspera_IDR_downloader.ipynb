{
 "cells": [
  {
   "cell_type": "markdown",
   "metadata": {},
   "source": [
    "# Aspera IDR Movie Downloader\n",
    "### Download movies from IDR using the Aspera high-speed transfer client\n"
   ]
  },
  {
   "cell_type": "code",
   "execution_count": 1,
   "metadata": {},
   "outputs": [
    {
     "data": {
      "text/plain": [
       "'\\nCommand to download entire dataset:\\nsudo /home/roshankern/.aspera/ascli/sdk/ascp -TQ -l500m -P 33001 -i /home/roshankern/Desktop/aspera/asperaweb_id_dsa.openssh idr0013@fasp.ebi.ac.uk:20150916-mitocheck-analysis/mitocheck/ /media/roshankern/hdd/mitocheck_idr_download\\n'"
      ]
     },
     "execution_count": 1,
     "metadata": {},
     "output_type": "execute_result"
    }
   ],
   "source": [
    "#command to download entire dataset:\n",
    "\"\"\"\n",
    "sudo /home/roshankern/.aspera/ascli/sdk/ascp\n",
    "-TQ -l500m -P 33001 -i \n",
    "/home/roshankern/Desktop/aspera/asperaweb_id_dsa.openssh \n",
    "idr0013@fasp.ebi.ac.uk:20150916-mitocheck-analysis/mitocheck/ \n",
    "/media/roshankern/hdd/mitocheck_idr_download\n",
    "\"\"\""
   ]
  },
  {
   "cell_type": "markdown",
   "metadata": {},
   "source": [
    "#### Import libraries"
   ]
  },
  {
   "cell_type": "code",
   "execution_count": 2,
   "metadata": {},
   "outputs": [],
   "source": [
    "import os\n",
    "import subprocess\n",
    "import pandas as pd"
   ]
  },
  {
   "cell_type": "markdown",
   "metadata": {},
   "source": [
    "#### Determine Labeled Data\n",
    "Save plate/well of feature data to `training_locations.tsv`"
   ]
  },
  {
   "cell_type": "code",
   "execution_count": 4,
   "metadata": {},
   "outputs": [],
   "source": [
    "#Figure out which wells from which plate have labeled data\n",
    "\n",
    "def save_training_wells(features_path, save_path):\n",
    "    data_list = []\n",
    "    for plate in os.listdir(features_path):\n",
    "        for well in os.listdir(features_path + plate + \"/features\"):\n",
    "            data_list.append([plate, well])\n",
    "    dataframe = pd.DataFrame(data_list, columns=['Plate', 'Well'])\n",
    "    dataframe.to_csv(save_path, sep=\"\\t\")\n",
    "    \n",
    "features_path = \"/media/roshankern/hdd/mitocheck_labeled_data/mitocheck_data/training_set/features/\"\n",
    "save_path = \"/media/roshankern/hdd/mitocheck_labeled_data/mitocheck_data/training_set/training_locations.tsv\"\n",
    "save_training_wells(features_path, save_path)"
   ]
  },
  {
   "cell_type": "markdown",
   "metadata": {},
   "source": [
    "#### Download movies that have labels\n",
    "Use Aspera to download wells listed in `training_locations.tsv`"
   ]
  },
  {
   "cell_type": "code",
   "execution_count": 10,
   "metadata": {},
   "outputs": [
    {
     "name": "stdout",
     "output_type": "stream",
     "text": [
      "1\n",
      "2\n",
      "3\n",
      "4\n",
      "5\n",
      "6\n",
      "7\n",
      "8\n",
      "9\n",
      "10\n",
      "11\n",
      "12\n",
      "13\n",
      "14\n",
      "15\n",
      "16\n",
      "17\n",
      "18\n",
      "19\n",
      "20\n",
      "21\n",
      "22\n",
      "23\n",
      "24\n",
      "25\n",
      "26\n",
      "27\n",
      "28\n",
      "29\n",
      "30\n",
      "31\n",
      "32\n",
      "33\n",
      "34\n",
      "35\n",
      "36\n",
      "37\n",
      "38\n",
      "can only convert an array of size 1 to a Python scalar\n",
      "LT0155_02 not available in screen paths\n",
      "39\n",
      "40\n",
      "41\n",
      "can only convert an array of size 1 to a Python scalar\n",
      "LT0111_45 not available in screen paths\n",
      "42\n",
      "43\n",
      "44\n",
      "45\n",
      "46\n",
      "47\n",
      "48\n",
      "49\n",
      "50\n"
     ]
    }
   ],
   "source": [
    "training_locations_path = \"/media/roshankern/hdd/mitocheck_labeled_data/mitocheck_data/training_set/training_locations.tsv\"\n",
    "screens_path = \"/media/roshankern/hdd/mitocheck_labeled_data/idr0013-screenA-plates.tsv\"\n",
    "\n",
    "\n",
    "def download_labeled_data(training_locations_path, screens_path, aspera_path, key_path, download_path):\n",
    "    training_locations = pd.read_csv(training_locations_path, sep=\"\\t\")\n",
    "    screens = pd.read_csv(screens_path, sep=\"\\t\", header=None)\n",
    "    screens.columns = [\"Plate\", \"Screen\"]\n",
    "    \n",
    "    for index, row in training_locations.iterrows():\n",
    "        try:\n",
    "            #example command: \n",
    "            \"\"\"sudo /home/roshankern/.aspera/ascli/sdk/ascp\n",
    "            -TQ -l500m -P 33001 -i /home/roshankern/Desktop/aspera/asperaweb_\n",
    "            id_dsa.openssh idr0013@fasp.ebi.ac.uk:20150916-mitocheck-analysis/mitocheck/LT0001_02--ex2005_11_16--sp2005_02_17--tt17--c3/hdf5/00002_01.ch5 \n",
    "            /home/roshankern/Desktop/NucleusMorphology/phenotypic_profiling/downloading/idr_downloads\"\"\"\n",
    "            \n",
    "            #get location of screen\n",
    "            screen_loc = screens.loc[screens['Plate'] == row['Plate'], 'Screen'].item().removeprefix(\"../screens/\").removesuffix(\".screen\")\n",
    "            \n",
    "            well_path = \"20150916-mitocheck-analysis/mitocheck/\" + screen_loc + \"/hdf5/00\" + \"{:03d}\".format(row['Well']) + \"_01.ch5\"\n",
    "            idr_location = \"idr0013@fasp.ebi.ac.uk:\" + well_path + \" \"\n",
    "            \n",
    "            os.makedirs(download_path + \"/\" + row['Plate'])\n",
    "            command = \"sudo \" + aspera_path + \" -TQ -l500m -P 33001 -i \" + key_path + \" \" + idr_location + download_path + \"/\" + row['Plate']\n",
    "            print(command)\n",
    "            os.system(command)\n",
    "        except Exception as e:\n",
    "            print(e)\n",
    "            print(row['Plate'] + \" not available in screen paths\")\n",
    "\n",
    "#def get_screen_path():\n",
    "\n",
    "aspera_path = \"/home/roshankern/.aspera/ascli/sdk/ascp\"\n",
    "key_path = \"/home/roshankern/Desktop/NucleusMorphology/phenotypic_profiling/downloading/asperaweb_id_dsa.openssh\"\n",
    "download_path = \"/media/roshankern/hdd/mitocheck_idr_download/labled_movies\"\n",
    "\n",
    "download_labeled_data(training_locations_path, screens_path, aspera_path, key_path, download_path)"
   ]
  }
 ],
 "metadata": {
  "interpreter": {
   "hash": "f9df586d1764dbc68785000a153dad1832127ac564b5e2e4c94e83fc43160b30"
  },
  "kernelspec": {
   "display_name": "Python 3.9.12 ('phenotypic_profiling')",
   "language": "python",
   "name": "python3"
  },
  "language_info": {
   "codemirror_mode": {
    "name": "ipython",
    "version": 3
   },
   "file_extension": ".py",
   "mimetype": "text/x-python",
   "name": "python",
   "nbconvert_exporter": "python",
   "pygments_lexer": "ipython3",
   "version": "3.9.12"
  },
  "orig_nbformat": 4
 },
 "nbformat": 4,
 "nbformat_minor": 2
}
